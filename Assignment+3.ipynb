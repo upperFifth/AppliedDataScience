{
 "cells": [
  {
   "cell_type": "markdown",
   "metadata": {},
   "source": [
    "---\n",
    "\n",
    "_You are currently looking at **version 1.5** of this notebook. To download notebooks and datafiles, as well as get help on Jupyter notebooks in the Coursera platform, visit the [Jupyter Notebook FAQ](https://www.coursera.org/learn/python-data-analysis/resources/0dhYG) course resource._\n",
    "\n",
    "---"
   ]
  },
  {
   "cell_type": "markdown",
   "metadata": {},
   "source": [
    "# Assignment 3 - More Pandas\n",
    "This assignment requires more individual learning then the last one did - you are encouraged to check out the [pandas documentation](http://pandas.pydata.org/pandas-docs/stable/) to find functions or methods you might not have used yet, or ask questions on [Stack Overflow](http://stackoverflow.com/) and tag them as pandas and python related. And of course, the discussion forums are open for interaction with your peers and the course staff."
   ]
  },
  {
   "cell_type": "markdown",
   "metadata": {},
   "source": [
    "### Question 1 (20%)\n",
    "Load the energy data from the file `Energy Indicators.xls`, which is a list of indicators of [energy supply and renewable electricity production](Energy%20Indicators.xls) from the [United Nations](http://unstats.un.org/unsd/environment/excel_file_tables/2013/Energy%20Indicators.xls) for the year 2013, and should be put into a DataFrame with the variable name of **energy**.\n",
    "\n",
    "Keep in mind that this is an Excel file, and not a comma separated values file. Also, make sure to exclude the footer and header information from the datafile. The first two columns are unneccessary, so you should get rid of them, and you should change the column labels so that the columns are:\n",
    "\n",
    "`['Country', 'Energy Supply', 'Energy Supply per Capita', '% Renewable']`\n",
    "\n",
    "Convert `Energy Supply` to gigajoules (there are 1,000,000 gigajoules in a petajoule). For all countries which have missing data (e.g. data with \"...\") make sure this is reflected as `np.NaN` values.\n",
    "\n",
    "Rename the following list of countries (for use in later questions):\n",
    "\n",
    "```\"Republic of Korea\": \"South Korea\",\n",
    "\"United States of America\": \"United States\",\n",
    "\"United Kingdom of Great Britain and Northern Ireland\": \"United Kingdom\",\n",
    "\"China, Hong Kong Special Administrative Region\": \"Hong Kong\"```\n",
    "\n",
    "There are also several countries with numbers and/or parenthesis in their name. Be sure to remove these, \n",
    "\n",
    "e.g. \n",
    "\n",
    "`'Bolivia (Plurinational State of)'` should be `'Bolivia'`, \n",
    "\n",
    "`'Switzerland17'` should be `'Switzerland'`.\n",
    "\n",
    "<br>\n",
    "\n",
    "Next, load the GDP data from the file `world_bank.csv`, which is a csv containing countries' GDP from 1960 to 2015 from [World Bank](http://data.worldbank.org/indicator/NY.GDP.MKTP.CD). Call this DataFrame **GDP**. \n",
    "\n",
    "Make sure to skip the header, and rename the following list of countries:\n",
    "\n",
    "```\"Korea, Rep.\": \"South Korea\", \n",
    "\"Iran, Islamic Rep.\": \"Iran\",\n",
    "\"Hong Kong SAR, China\": \"Hong Kong\"```\n",
    "\n",
    "<br>\n",
    "\n",
    "Finally, load the [Sciamgo Journal and Country Rank data for Energy Engineering and Power Technology](http://www.scimagojr.com/countryrank.php?category=2102) from the file `scimagojr-3.xlsx`, which ranks countries based on their journal contributions in the aforementioned area. Call this DataFrame **ScimEn**.\n",
    "\n",
    "Join the three datasets: GDP, Energy, and ScimEn into a new dataset (using the intersection of country names). Use only the last 10 years (2006-2015) of GDP data and only the top 15 countries by Scimagojr 'Rank' (Rank 1 through 15). \n",
    "\n",
    "The index of this DataFrame should be the name of the country, and the columns should be ['Rank', 'Documents', 'Citable documents', 'Citations', 'Self-citations',\n",
    "       'Citations per document', 'H index', 'Energy Supply',\n",
    "       'Energy Supply per Capita', '% Renewable', '2006', '2007', '2008',\n",
    "       '2009', '2010', '2011', '2012', '2013', '2014', '2015'].\n",
    "\n",
    "*This function should return a DataFrame with 20 columns and 15 entries.*"
   ]
  },
  {
   "cell_type": "code",
   "execution_count": 2,
   "metadata": {
    "collapsed": true,
    "umich_part_id": "009",
    "umich_partlist_id": "003"
   },
   "outputs": [],
   "source": [
    "import pandas as pd\n",
    "import re \n",
    "\n",
    "def answer_one():\n",
    "    energy = pd.read_excel('Energy Indicators.xls'\n",
    "                          , skiprows = 18\n",
    "                           , skipfooter=38\n",
    "                           , index_col=None\n",
    "                           , header=None\n",
    "                           , parse_cols = [2,3,4,5]\n",
    "                           , names=['Country', 'Energy Supply', 'Energy Supply per Capita', '% Renewable']\n",
    "                           , na_values=[\"...\"]\n",
    "                          )\n",
    "    energy['Energy Supply'] = energy['Energy Supply']*1000000\n",
    "    energy['Country'] = energy['Country'].apply(lambda x: \"South Korea\" if x == \"Republic of Korea\" \n",
    "                                            else \"United States\" if \"United States of America\" in x\n",
    "                                            else \"United Kingdom\" if \"United Kingdom of Great Britain and Northern Ireland\" in x\n",
    "                                            else \"Hong Kong\" if \"China, Hong Kong Special Administrative Region\" in x\n",
    "                                            else \"Iran\" if \"Iran\" in x    \n",
    "                                            else x.split(\"(\")[0] if '(' in x   \n",
    "                                            else re.sub('\\d', '', x) if re.search('\\d',x)\n",
    "                                            else x.strip()\n",
    "                                               )  \n",
    "    energy=energy.set_index('Country')\n",
    "    \n",
    "    GDP = pd.read_csv('world_bank.csv'\n",
    "                    , skiprows = 4\n",
    "                    , header = 0\n",
    "                    , nrows = 264)    \n",
    "\n",
    "    GDP['Country Name'] = GDP['Country Name'].apply(lambda x: \"South Korea\" if \"Korea, Rep.\" in x\n",
    "                                            else \"Iran\" if \"Iran, Islamic Rep.\" in x\n",
    "                                            else \"Hong Kong\" if \"Hong Kong SAR, China\" in x\n",
    "                                            else x.strip()\n",
    "                                               )\n",
    "    GDP=GDP.set_index('Country Name')\n",
    "    \n",
    "    ScimEn = pd.read_excel('scimagojr-3.xlsx', header = 0)\n",
    "    ScimEn['Country']=ScimEn['Country'].str.strip()\n",
    "    \n",
    "    ScimEn=ScimEn.set_index('Country')\n",
    "       \n",
    "    result = pd.concat([GDP,ScimEn,energy],axis = 1, join = 'inner', ignore_index = False).reindex(GDP.index)\n",
    "    \n",
    "    result = result[result['Rank']<=15][['Rank', 'Documents', 'Citable documents', 'Citations', 'Self-citations', 'Citations per document', 'H index', 'Energy Supply', 'Energy Supply per Capita', '% Renewable', '2006', '2007', '2008', '2009', '2010', '2011', '2012', '2013', '2014', '2015']]\n",
    "    \n",
    "    return result\n",
    "\n",
    "# answer_one()"
   ]
  },
  {
   "cell_type": "markdown",
   "metadata": {},
   "source": [
    "### Question 2 (6.6%)\n",
    "The previous question joined three datasets then reduced this to just the top 15 entries. When you joined the datasets, but before you reduced this to the top 15 items, how many entries did you lose?\n",
    "\n",
    "*This function should return a single number.*"
   ]
  },
  {
   "cell_type": "code",
   "execution_count": 1,
   "metadata": {},
   "outputs": [
    {
     "data": {
      "text/html": [
       "<svg width=\"800\" height=\"300\">\n",
       "  <circle cx=\"150\" cy=\"180\" r=\"80\" fill-opacity=\"0.2\" stroke=\"black\" stroke-width=\"2\" fill=\"blue\" />\n",
       "  <circle cx=\"200\" cy=\"100\" r=\"80\" fill-opacity=\"0.2\" stroke=\"black\" stroke-width=\"2\" fill=\"red\" />\n",
       "  <circle cx=\"100\" cy=\"100\" r=\"80\" fill-opacity=\"0.2\" stroke=\"black\" stroke-width=\"2\" fill=\"green\" />\n",
       "  <line x1=\"150\" y1=\"125\" x2=\"300\" y2=\"150\" stroke=\"black\" stroke-width=\"2\" fill=\"black\" stroke-dasharray=\"5,3\"/>\n",
       "  <text  x=\"300\" y=\"165\" font-family=\"Verdana\" font-size=\"35\">Everything but this!</text>\n",
       "</svg>"
      ],
      "text/plain": [
       "<IPython.core.display.HTML object>"
      ]
     },
     "metadata": {},
     "output_type": "display_data"
    }
   ],
   "source": [
    "%%HTML\n",
    "<svg width=\"800\" height=\"300\">\n",
    "  <circle cx=\"150\" cy=\"180\" r=\"80\" fill-opacity=\"0.2\" stroke=\"black\" stroke-width=\"2\" fill=\"blue\" />\n",
    "  <circle cx=\"200\" cy=\"100\" r=\"80\" fill-opacity=\"0.2\" stroke=\"black\" stroke-width=\"2\" fill=\"red\" />\n",
    "  <circle cx=\"100\" cy=\"100\" r=\"80\" fill-opacity=\"0.2\" stroke=\"black\" stroke-width=\"2\" fill=\"green\" />\n",
    "  <line x1=\"150\" y1=\"125\" x2=\"300\" y2=\"150\" stroke=\"black\" stroke-width=\"2\" fill=\"black\" stroke-dasharray=\"5,3\"/>\n",
    "  <text  x=\"300\" y=\"165\" font-family=\"Verdana\" font-size=\"35\">Everything but this!</text>\n",
    "</svg>"
   ]
  },
  {
   "cell_type": "code",
   "execution_count": 14,
   "metadata": {
    "umich_part_id": "010",
    "umich_partlist_id": "003"
   },
   "outputs": [
    {
     "data": {
      "text/plain": [
       "156"
      ]
     },
     "execution_count": 14,
     "metadata": {},
     "output_type": "execute_result"
    }
   ],
   "source": [
    "import pandas as pd\n",
    "import re\n",
    "\n",
    "def answer_two():\n",
    "    energy = pd.read_excel('Energy Indicators.xls'\n",
    "                          , skiprows = 18\n",
    "                           , skipfooter=38\n",
    "                           , index_col=None\n",
    "                           , header=None\n",
    "                           , parse_cols = [2,3,4,5]\n",
    "                           , names=['Country', 'Energy Supply', 'Energy Supply per Capita', '% Renewable']\n",
    "                           , na_values=[\"...\"]\n",
    "                          )\n",
    "    energy['Energy Supply'] = energy['Energy Supply']*1000000\n",
    "    energy['Country'] = energy['Country'].apply(lambda x: \"South Korea\" if x == \"Republic of Korea\" \n",
    "                                            else \"United States\" if \"United States of America\" in x\n",
    "                                            else \"United Kingdom\" if \"United Kingdom of Great Britain and Northern Ireland\" in x\n",
    "                                            else \"Hong Kong\" if \"China, Hong Kong Special Administrative Region\" in x\n",
    "                                            else \"Iran\" if \"Iran\" in x    \n",
    "                                            else x.split(\"(\")[0].strip() if '(' in x   \n",
    "                                            else re.sub('\\d', '', x) if re.search('\\d',x)\n",
    "                                            else x.strip()\n",
    "                                               )  \n",
    "    energy=energy.set_index('Country')\n",
    "    \n",
    "    GDP = pd.read_csv('world_bank.csv'\n",
    "                    , skiprows = 4\n",
    "                    , header = 0\n",
    "                    , nrows = 264)    \n",
    "\n",
    "    GDP['Country Name'] = GDP['Country Name'].apply(lambda x: \"South Korea\" if \"Korea, Rep.\" in x\n",
    "                                            else \"Iran\" if \"Iran, Islamic Rep.\" in x\n",
    "                                            else \"Hong Kong\" if \"Hong Kong SAR, China\" in x\n",
    "                                            else x.strip()\n",
    "                                               )\n",
    "    GDP=GDP.set_index('Country Name')\n",
    "    \n",
    "    ScimEn = pd.read_excel('scimagojr-3.xlsx', header = 0)\n",
    "    ScimEn['Country']=ScimEn['Country'].str.strip()\n",
    "    \n",
    "    ScimEn=ScimEn.set_index('Country')\n",
    "       \n",
    "#     result = pd.concat([GDP,ScimEn,energy], join = 'inner', axis = 1).reindex(GDP.index)\n",
    "#     result = result[result['Rank']<=15][['Rank', 'Documents', 'Citable documents', 'Citations', 'Self-citations', 'Citations per document', 'H index', 'Energy Supply', 'Energy Supply per Capita', '% Renewable', '2006', '2007', '2008', '2009', '2010', '2011', '2012', '2013', '2014', '2015']]\n",
    "    \n",
    "    outer1 = pd.merge(energy,GDP,how='outer',right_index = True, left_index = True)\n",
    "    outer2 = pd.merge(outer1,ScimEn,how='outer', right_index = True, left_index = True)\n",
    "    outer3 = pd.concat([energy,GDP,ScimEn],join='outer',ignore_index=False)\n",
    "#     inner = pd.concat([GDP,ScimEn,energy], join = 'inner', axis = 1).reindex(energy.index)\n",
    "    inner1 = pd.merge(energy,GDP,how = 'inner',right_index=True,left_index=True)\n",
    "    inner2 = pd.merge(inner1,ScimEn,how='inner',right_index=True,left_index=True)\n",
    "    inner3 = pd.concat([energy,GDP,ScimEn],join='inner',ignore_index=False)\n",
    "    a = outer3.index.nunique()\n",
    "    b = inner2.index.nunique()\n",
    "    \n",
    "    return a-b\n",
    "\n",
    "# answer_two()"
   ]
  },
  {
   "cell_type": "markdown",
   "metadata": {},
   "source": [
    "## Answer the following questions in the context of only the top 15 countries by Scimagojr Rank (aka the DataFrame returned by `answer_one()`)"
   ]
  },
  {
   "cell_type": "markdown",
   "metadata": {},
   "source": [
    "### Question 3 (6.6%)\n",
    "What is the average GDP over the last 10 years for each country? (exclude missing values from this calculation.)\n",
    "\n",
    "*This function should return a Series named `avgGDP` with 15 countries and their average GDP sorted in descending order.*"
   ]
  },
  {
   "cell_type": "code",
   "execution_count": 20,
   "metadata": {
    "scrolled": true,
    "umich_part_id": "011",
    "umich_partlist_id": "003"
   },
   "outputs": [
    {
     "data": {
      "text/plain": [
       "Country Name\n",
       "United States         1.536434e+13\n",
       "China                 6.348609e+12\n",
       "Japan                 5.542208e+12\n",
       "Germany               3.493025e+12\n",
       "France                2.681725e+12\n",
       "United Kingdom        2.487907e+12\n",
       "Brazil                2.189794e+12\n",
       "Italy                 2.120175e+12\n",
       "India                 1.769297e+12\n",
       "Canada                1.660647e+12\n",
       "Russian Federation    1.565459e+12\n",
       "Spain                 1.418078e+12\n",
       "Australia             1.164043e+12\n",
       "South Korea           1.106715e+12\n",
       "Iran                  4.441558e+11\n",
       "Name: Avg GDP, dtype: float64"
      ]
     },
     "execution_count": 20,
     "metadata": {},
     "output_type": "execute_result"
    }
   ],
   "source": [
    "import pandas as pd\n",
    "import re \n",
    "\n",
    "def answer_three():\n",
    "    energy = pd.read_excel('Energy Indicators.xls'\n",
    "                          , skiprows = 18\n",
    "                           , skipfooter=38\n",
    "                           , index_col=None\n",
    "                           , header=None\n",
    "                           , parse_cols = [2,3,4,5]\n",
    "                           , names=['Country', 'Energy Supply', 'Energy Supply per Capita', '% Renewable']\n",
    "                           , na_values=[\"...\"]\n",
    "                          )\n",
    "    energy['Energy Supply'] = energy['Energy Supply']*1000000\n",
    "    energy['Country'] = energy['Country'].apply(lambda x: \"South Korea\" if x == \"Republic of Korea\" \n",
    "                                            else \"United States\" if \"United States of America\" in x\n",
    "                                            else \"United Kingdom\" if \"United Kingdom of Great Britain and Northern Ireland\" in x\n",
    "                                            else \"Hong Kong\" if \"China, Hong Kong Special Administrative Region\" in x\n",
    "                                            else \"Iran\" if \"Iran\" in x    \n",
    "                                            else x.split(\"(\")[0] if '(' in x   \n",
    "                                            else re.sub('\\d', '', x) if re.search('\\d',x)\n",
    "                                            else x.strip()\n",
    "                                               )  \n",
    "    energy=energy.set_index('Country')\n",
    "    \n",
    "    GDP = pd.read_csv('world_bank.csv'\n",
    "                    , skiprows = 4\n",
    "                    , header = 0\n",
    "                    , nrows = 264)    \n",
    "\n",
    "    GDP['Country Name'] = GDP['Country Name'].apply(lambda x: \"South Korea\" if \"Korea, Rep.\" in x\n",
    "                                            else \"Iran\" if \"Iran, Islamic Rep.\" in x\n",
    "                                            else \"Hong Kong\" if \"Hong Kong SAR, China\" in x\n",
    "                                            else x.strip()\n",
    "                                               )\n",
    "    GDP=GDP.set_index('Country Name')\n",
    "    \n",
    "    ScimEn = pd.read_excel('scimagojr-3.xlsx', header = 0)\n",
    "    ScimEn['Country']=ScimEn['Country'].str.strip()\n",
    "    \n",
    "    ScimEn=ScimEn.set_index('Country')\n",
    "       \n",
    "    result = pd.concat([GDP,ScimEn,energy],axis = 1, join = 'inner', ignore_index = False).reindex(GDP.index)\n",
    "    \n",
    "    result = result[result['Rank']<=15][['Rank', 'Documents', 'Citable documents', 'Citations', 'Self-citations', 'Citations per document', 'H index', 'Energy Supply', 'Energy Supply per Capita', '% Renewable', '2006', '2007', '2008', '2009', '2010', '2011', '2012', '2013', '2014', '2015']]\n",
    "    \n",
    "    avgGDP = result.loc[:, ('2006', '2007', '2008', '2009', '2010', '2011', '2012', '2013', '2014', '2015')]\n",
    "    avgGDP['Avg GDP'] = avgGDP.mean(axis=1,skipna=True)\n",
    "    return avgGDP['Avg GDP'].sort_values(ascending=False)\n",
    "\n",
    "# answer_three()"
   ]
  },
  {
   "cell_type": "markdown",
   "metadata": {},
   "source": [
    "### Question 4 (6.6%)\n",
    "By how much had the GDP changed over the 10 year span for the country with the 6th largest average GDP?\n",
    "\n",
    "*This function should return a single number.*"
   ]
  },
  {
   "cell_type": "code",
   "execution_count": 28,
   "metadata": {
    "scrolled": true,
    "umich_part_id": "012",
    "umich_partlist_id": "003"
   },
   "outputs": [
    {
     "data": {
      "text/plain": [
       "246702696075.3999"
      ]
     },
     "execution_count": 28,
     "metadata": {},
     "output_type": "execute_result"
    }
   ],
   "source": [
    "import pandas as pd\n",
    "import re \n",
    "\n",
    "def answer_four():\n",
    "    energy = pd.read_excel('Energy Indicators.xls'\n",
    "                          , skiprows = 18\n",
    "                           , skipfooter=38\n",
    "                           , index_col=None\n",
    "                           , header=None\n",
    "                           , parse_cols = [2,3,4,5]\n",
    "                           , names=['Country', 'Energy Supply', 'Energy Supply per Capita', '% Renewable']\n",
    "                           , na_values=[\"...\"]\n",
    "                          )\n",
    "    energy['Energy Supply'] = energy['Energy Supply']*1000000\n",
    "    energy['Country'] = energy['Country'].apply(lambda x: \"South Korea\" if x == \"Republic of Korea\" \n",
    "                                            else \"United States\" if \"United States of America\" in x\n",
    "                                            else \"United Kingdom\" if \"United Kingdom of Great Britain and Northern Ireland\" in x\n",
    "                                            else \"Hong Kong\" if \"China, Hong Kong Special Administrative Region\" in x\n",
    "                                            else \"Iran\" if \"Iran\" in x    \n",
    "                                            else x.split(\"(\")[0] if '(' in x   \n",
    "                                            else re.sub('\\d', '', x) if re.search('\\d',x)\n",
    "                                            else x.strip()\n",
    "                                               )  \n",
    "    energy=energy.set_index('Country')\n",
    "    \n",
    "    GDP = pd.read_csv('world_bank.csv'\n",
    "                    , skiprows = 4\n",
    "                    , header = 0\n",
    "                    , nrows = 264)    \n",
    "\n",
    "    GDP['Country Name'] = GDP['Country Name'].apply(lambda x: \"South Korea\" if \"Korea, Rep.\" in x\n",
    "                                            else \"Iran\" if \"Iran, Islamic Rep.\" in x\n",
    "                                            else \"Hong Kong\" if \"Hong Kong SAR, China\" in x\n",
    "                                            else x.strip()\n",
    "                                               )\n",
    "    GDP=GDP.set_index('Country Name')\n",
    "    \n",
    "    ScimEn = pd.read_excel('scimagojr-3.xlsx', header = 0)\n",
    "    ScimEn['Country']=ScimEn['Country'].str.strip()\n",
    "    \n",
    "    ScimEn=ScimEn.set_index('Country')\n",
    "       \n",
    "    result = pd.concat([GDP,ScimEn,energy],axis = 1, join = 'inner', ignore_index = False).reindex(GDP.index)\n",
    "    \n",
    "    result = result[result['Rank']<=15][['Rank', 'Documents', 'Citable documents', 'Citations', 'Self-citations', 'Citations per document', 'H index', 'Energy Supply', 'Energy Supply per Capita', '% Renewable', '2006', '2007', '2008', '2009', '2010', '2011', '2012', '2013', '2014', '2015']]\n",
    "    \n",
    "    avgGDP = result.loc[:, ('2006', '2007', '2008', '2009', '2010', '2011', '2012', '2013', '2014', '2015')]\n",
    "    \n",
    "    avgGDP['GDP Change'] = avgGDP['2015']-avgGDP['2006']\n",
    "    \n",
    "    avgGDP['Avg GDP Rank'] = avgGDP.mean(axis=1,skipna=True).rank(method='dense',ascending=False)\n",
    "    \n",
    "    return avgGDP[avgGDP['Avg GDP Rank']==6]['GDP Change'][0]\n",
    "\n",
    "# answer_four()"
   ]
  },
  {
   "cell_type": "markdown",
   "metadata": {},
   "source": [
    "### Question 5 (6.6%)\n",
    "What is the mean `Energy Supply per Capita`?\n",
    "\n",
    "*This function should return a single number.*"
   ]
  },
  {
   "cell_type": "code",
   "execution_count": 29,
   "metadata": {
    "umich_part_id": "013",
    "umich_partlist_id": "003"
   },
   "outputs": [
    {
     "data": {
      "text/plain": [
       "157.59999999999999"
      ]
     },
     "execution_count": 29,
     "metadata": {},
     "output_type": "execute_result"
    }
   ],
   "source": [
    "import pandas as pd\n",
    "import re \n",
    "\n",
    "def answer_five():\n",
    "    energy = pd.read_excel('Energy Indicators.xls'\n",
    "                          , skiprows = 18\n",
    "                           , skipfooter=38\n",
    "                           , index_col=None\n",
    "                           , header=None\n",
    "                           , parse_cols = [2,3,4,5]\n",
    "                           , names=['Country', 'Energy Supply', 'Energy Supply per Capita', '% Renewable']\n",
    "                           , na_values=[\"...\"]\n",
    "                          )\n",
    "    energy['Energy Supply'] = energy['Energy Supply']*1000000\n",
    "    energy['Country'] = energy['Country'].apply(lambda x: \"South Korea\" if x == \"Republic of Korea\" \n",
    "                                            else \"United States\" if \"United States of America\" in x\n",
    "                                            else \"United Kingdom\" if \"United Kingdom of Great Britain and Northern Ireland\" in x\n",
    "                                            else \"Hong Kong\" if \"China, Hong Kong Special Administrative Region\" in x\n",
    "                                            else \"Iran\" if \"Iran\" in x    \n",
    "                                            else x.split(\"(\")[0] if '(' in x   \n",
    "                                            else re.sub('\\d', '', x) if re.search('\\d',x)\n",
    "                                            else x.strip()\n",
    "                                               )  \n",
    "    energy=energy.set_index('Country')\n",
    "    \n",
    "    GDP = pd.read_csv('world_bank.csv'\n",
    "                    , skiprows = 4\n",
    "                    , header = 0\n",
    "                    , nrows = 264)    \n",
    "\n",
    "    GDP['Country Name'] = GDP['Country Name'].apply(lambda x: \"South Korea\" if \"Korea, Rep.\" in x\n",
    "                                            else \"Iran\" if \"Iran, Islamic Rep.\" in x\n",
    "                                            else \"Hong Kong\" if \"Hong Kong SAR, China\" in x\n",
    "                                            else x.strip()\n",
    "                                               )\n",
    "    GDP=GDP.set_index('Country Name')\n",
    "    \n",
    "    ScimEn = pd.read_excel('scimagojr-3.xlsx', header = 0)\n",
    "    ScimEn['Country']=ScimEn['Country'].str.strip()\n",
    "    \n",
    "    ScimEn=ScimEn.set_index('Country')\n",
    "       \n",
    "    result = pd.concat([GDP,ScimEn,energy],axis = 1, join = 'inner', ignore_index = False).reindex(GDP.index)\n",
    "    \n",
    "    result = result[result['Rank']<=15][['Rank', 'Documents', 'Citable documents', 'Citations', 'Self-citations', 'Citations per document', 'H index', 'Energy Supply', 'Energy Supply per Capita', '% Renewable', '2006', '2007', '2008', '2009', '2010', '2011', '2012', '2013', '2014', '2015']]\n",
    "    \n",
    "    result['Energy Supply per Capita'].mean()\n",
    "    return result['Energy Supply per Capita'].mean()\n",
    "\n",
    "# answer_five()"
   ]
  },
  {
   "cell_type": "markdown",
   "metadata": {},
   "source": [
    "### Question 6 (6.6%)\n",
    "What country has the maximum % Renewable and what is the percentage?\n",
    "\n",
    "*This function should return a tuple with the name of the country and the percentage.*"
   ]
  },
  {
   "cell_type": "code",
   "execution_count": 31,
   "metadata": {
    "umich_part_id": "014",
    "umich_partlist_id": "003"
   },
   "outputs": [
    {
     "data": {
      "text/plain": [
       "('Brazil', 69.648030000000006)"
      ]
     },
     "execution_count": 31,
     "metadata": {},
     "output_type": "execute_result"
    }
   ],
   "source": [
    "import pandas as pd\n",
    "import re \n",
    "\n",
    "def answer_six():\n",
    "    energy = pd.read_excel('Energy Indicators.xls'\n",
    "                          , skiprows = 18\n",
    "                           , skipfooter=38\n",
    "                           , index_col=None\n",
    "                           , header=None\n",
    "                           , parse_cols = [2,3,4,5]\n",
    "                           , names=['Country', 'Energy Supply', 'Energy Supply per Capita', '% Renewable']\n",
    "                           , na_values=[\"...\"]\n",
    "                          )\n",
    "    energy['Energy Supply'] = energy['Energy Supply']*1000000\n",
    "    energy['Country'] = energy['Country'].apply(lambda x: \"South Korea\" if x == \"Republic of Korea\" \n",
    "                                            else \"United States\" if \"United States of America\" in x\n",
    "                                            else \"United Kingdom\" if \"United Kingdom of Great Britain and Northern Ireland\" in x\n",
    "                                            else \"Hong Kong\" if \"China, Hong Kong Special Administrative Region\" in x\n",
    "                                            else \"Iran\" if \"Iran\" in x    \n",
    "                                            else x.split(\"(\")[0] if '(' in x   \n",
    "                                            else re.sub('\\d', '', x) if re.search('\\d',x)\n",
    "                                            else x.strip()\n",
    "                                               )  \n",
    "    energy=energy.set_index('Country')\n",
    "    \n",
    "    GDP = pd.read_csv('world_bank.csv'\n",
    "                    , skiprows = 4\n",
    "                    , header = 0\n",
    "                    , nrows = 264)    \n",
    "\n",
    "    GDP['Country Name'] = GDP['Country Name'].apply(lambda x: \"South Korea\" if \"Korea, Rep.\" in x\n",
    "                                            else \"Iran\" if \"Iran, Islamic Rep.\" in x\n",
    "                                            else \"Hong Kong\" if \"Hong Kong SAR, China\" in x\n",
    "                                            else x.strip()\n",
    "                                               )\n",
    "    GDP=GDP.set_index('Country Name')\n",
    "    \n",
    "    ScimEn = pd.read_excel('scimagojr-3.xlsx', header = 0)\n",
    "    ScimEn['Country']=ScimEn['Country'].str.strip()\n",
    "    \n",
    "    ScimEn=ScimEn.set_index('Country')\n",
    "       \n",
    "    result = pd.concat([GDP,ScimEn,energy],axis = 1, join = 'inner', ignore_index = False).reindex(GDP.index)\n",
    "    \n",
    "    result = result[result['Rank']<=15][['Rank', 'Documents', 'Citable documents', 'Citations', 'Self-citations', 'Citations per document', 'H index', 'Energy Supply', 'Energy Supply per Capita', '% Renewable', '2006', '2007', '2008', '2009', '2010', '2011', '2012', '2013', '2014', '2015']]\n",
    "    \n",
    "    return (result['% Renewable'].idxmax(),result['% Renewable'].max())\n",
    "\n",
    "# answer_six()"
   ]
  },
  {
   "cell_type": "markdown",
   "metadata": {},
   "source": [
    "### Question 7 (6.6%)\n",
    "Create a new column that is the ratio of Self-Citations to Total Citations. \n",
    "What is the maximum value for this new column, and what country has the highest ratio?\n",
    "\n",
    "*This function should return a tuple with the name of the country and the ratio.*"
   ]
  },
  {
   "cell_type": "code",
   "execution_count": 33,
   "metadata": {
    "umich_part_id": "015",
    "umich_partlist_id": "003"
   },
   "outputs": [
    {
     "data": {
      "text/plain": [
       "('China', 0.68931261793894216)"
      ]
     },
     "execution_count": 33,
     "metadata": {},
     "output_type": "execute_result"
    }
   ],
   "source": [
    "import pandas as pd\n",
    "import re \n",
    "\n",
    "def answer_seven():\n",
    "    energy = pd.read_excel('Energy Indicators.xls'\n",
    "                          , skiprows = 18\n",
    "                           , skipfooter=38\n",
    "                           , index_col=None\n",
    "                           , header=None\n",
    "                           , parse_cols = [2,3,4,5]\n",
    "                           , names=['Country', 'Energy Supply', 'Energy Supply per Capita', '% Renewable']\n",
    "                           , na_values=[\"...\"]\n",
    "                          )\n",
    "    energy['Energy Supply'] = energy['Energy Supply']*1000000\n",
    "    energy['Country'] = energy['Country'].apply(lambda x: \"South Korea\" if x == \"Republic of Korea\" \n",
    "                                            else \"United States\" if \"United States of America\" in x\n",
    "                                            else \"United Kingdom\" if \"United Kingdom of Great Britain and Northern Ireland\" in x\n",
    "                                            else \"Hong Kong\" if \"China, Hong Kong Special Administrative Region\" in x\n",
    "                                            else \"Iran\" if \"Iran\" in x    \n",
    "                                            else x.split(\"(\")[0] if '(' in x   \n",
    "                                            else re.sub('\\d', '', x) if re.search('\\d',x)\n",
    "                                            else x.strip()\n",
    "                                               )  \n",
    "    energy=energy.set_index('Country')\n",
    "    \n",
    "    GDP = pd.read_csv('world_bank.csv'\n",
    "                    , skiprows = 4\n",
    "                    , header = 0\n",
    "                    , nrows = 264)    \n",
    "\n",
    "    GDP['Country Name'] = GDP['Country Name'].apply(lambda x: \"South Korea\" if \"Korea, Rep.\" in x\n",
    "                                            else \"Iran\" if \"Iran, Islamic Rep.\" in x\n",
    "                                            else \"Hong Kong\" if \"Hong Kong SAR, China\" in x\n",
    "                                            else x.strip()\n",
    "                                               )\n",
    "    GDP=GDP.set_index('Country Name')\n",
    "    \n",
    "    ScimEn = pd.read_excel('scimagojr-3.xlsx', header = 0)\n",
    "    ScimEn['Country']=ScimEn['Country'].str.strip()\n",
    "    \n",
    "    ScimEn=ScimEn.set_index('Country')\n",
    "       \n",
    "    result = pd.concat([GDP,ScimEn,energy],axis = 1, join = 'inner', ignore_index = False).reindex(GDP.index)\n",
    "    \n",
    "    result = result[result['Rank']<=15][['Rank', 'Documents', 'Citable documents', 'Citations', 'Self-citations', 'Citations per document', 'H index', 'Energy Supply', 'Energy Supply per Capita', '% Renewable', '2006', '2007', '2008', '2009', '2010', '2011', '2012', '2013', '2014', '2015']]\n",
    "    \n",
    "    result['Citation Ratio'] = result['Self-citations']/result['Citations']\n",
    "    \n",
    "    \n",
    "    return (result['Citation Ratio'].idxmax(),result['Citation Ratio'].max())\n",
    "\n",
    "# answer_seven()"
   ]
  },
  {
   "cell_type": "markdown",
   "metadata": {},
   "source": [
    "### Question 8 (6.6%)\n",
    "\n",
    "Create a column that estimates the population using Energy Supply and Energy Supply per capita. \n",
    "What is the third most populous country according to this estimate?\n",
    "\n",
    "*This function should return a single string value.*"
   ]
  },
  {
   "cell_type": "code",
   "execution_count": 14,
   "metadata": {
    "umich_part_id": "016",
    "umich_partlist_id": "003"
   },
   "outputs": [
    {
     "data": {
      "text/plain": [
       "'United States'"
      ]
     },
     "execution_count": 14,
     "metadata": {},
     "output_type": "execute_result"
    }
   ],
   "source": [
    "import pandas as pd\n",
    "import re \n",
    "\n",
    "def answer_eight():\n",
    "    energy = pd.read_excel('Energy Indicators.xls'\n",
    "                          , skiprows = 18\n",
    "                           , skipfooter=38\n",
    "                           , index_col=None\n",
    "                           , header=None\n",
    "                           , parse_cols = [2,3,4,5]\n",
    "                           , names=['Country', 'Energy Supply', 'Energy Supply per Capita', '% Renewable']\n",
    "                           , na_values=[\"...\"]\n",
    "                          )\n",
    "    energy['Energy Supply'] = energy['Energy Supply']*1000000\n",
    "    energy['Country'] = energy['Country'].apply(lambda x: \"South Korea\" if x == \"Republic of Korea\" \n",
    "                                            else \"United States\" if \"United States of America\" in x\n",
    "                                            else \"United Kingdom\" if \"United Kingdom of Great Britain and Northern Ireland\" in x\n",
    "                                            else \"Hong Kong\" if \"China, Hong Kong Special Administrative Region\" in x\n",
    "                                            else \"Iran\" if \"Iran\" in x    \n",
    "                                            else x.split(\"(\")[0] if '(' in x   \n",
    "                                            else re.sub('\\d', '', x) if re.search('\\d',x)\n",
    "                                            else x.strip()\n",
    "                                               )  \n",
    "    energy=energy.set_index('Country')\n",
    "    \n",
    "    GDP = pd.read_csv('world_bank.csv'\n",
    "                    , skiprows = 4\n",
    "                    , header = 0\n",
    "                    , nrows = 264)    \n",
    "\n",
    "    GDP['Country Name'] = GDP['Country Name'].apply(lambda x: \"South Korea\" if \"Korea, Rep.\" in x\n",
    "                                            else \"Iran\" if \"Iran, Islamic Rep.\" in x\n",
    "                                            else \"Hong Kong\" if \"Hong Kong SAR, China\" in x\n",
    "                                            else x.strip()\n",
    "                                               )\n",
    "    GDP=GDP.set_index('Country Name')\n",
    "    \n",
    "    ScimEn = pd.read_excel('scimagojr-3.xlsx', header = 0)\n",
    "    ScimEn['Country']=ScimEn['Country'].str.strip()\n",
    "    \n",
    "    ScimEn=ScimEn.set_index('Country')\n",
    "       \n",
    "    result = pd.concat([GDP,ScimEn,energy],axis = 1, join = 'inner', ignore_index = False).reindex(GDP.index)\n",
    "    \n",
    "    result = result[result['Rank']<=15][['Rank', 'Documents', 'Citable documents', 'Citations', 'Self-citations', 'Citations per document', 'H index', 'Energy Supply', 'Energy Supply per Capita', '% Renewable', '2006', '2007', '2008', '2009', '2010', '2011', '2012', '2013', '2014', '2015']]\n",
    "    \n",
    "    result['Est. Population'] = result['Energy Supply']/result['Energy Supply per Capita']\n",
    "    \n",
    "    result['PopRank']= result['Est. Population'].rank(method='dense',ascending=False)\n",
    "    \n",
    "    return result[result['PopRank']==3].index[0]\n",
    "\n",
    "# answer_eight()"
   ]
  },
  {
   "cell_type": "markdown",
   "metadata": {},
   "source": [
    "### Question 9 (6.6%)\n",
    "Create a column that estimates the number of citable documents per person. \n",
    "What is the correlation between the number of citable documents per capita and the energy supply per capita? Use the `.corr()` method, (Pearson's correlation).\n",
    "\n",
    "*This function should return a single number.*\n",
    "\n",
    "*(Optional: Use the built-in function `plot9()` to visualize the relationship between Energy Supply per Capita vs. Citable docs per Capita)*"
   ]
  },
  {
   "cell_type": "code",
   "execution_count": 12,
   "metadata": {
    "umich_part_id": "017",
    "umich_partlist_id": "003"
   },
   "outputs": [
    {
     "data": {
      "text/plain": [
       "0.79400104354429468"
      ]
     },
     "execution_count": 12,
     "metadata": {},
     "output_type": "execute_result"
    }
   ],
   "source": [
    "import pandas as pd\n",
    "import re \n",
    "\n",
    "def answer_nine():\n",
    "    energy = pd.read_excel('Energy Indicators.xls'\n",
    "                          , skiprows = 18\n",
    "                           , skipfooter=38\n",
    "                           , index_col=None\n",
    "                           , header=None\n",
    "                           , parse_cols = [2,3,4,5]\n",
    "                           , names=['Country', 'Energy Supply', 'Energy Supply per Capita', '% Renewable']\n",
    "                           , na_values=[\"...\"]\n",
    "                          )\n",
    "    energy['Energy Supply'] = energy['Energy Supply']*1000000\n",
    "    energy['Country'] = energy['Country'].apply(lambda x: \"South Korea\" if x == \"Republic of Korea\" \n",
    "                                            else \"United States\" if \"United States of America\" in x\n",
    "                                            else \"United Kingdom\" if \"United Kingdom of Great Britain and Northern Ireland\" in x\n",
    "                                            else \"Hong Kong\" if \"China, Hong Kong Special Administrative Region\" in x\n",
    "                                            else \"Iran\" if \"Iran\" in x    \n",
    "                                            else x.split(\"(\")[0] if '(' in x   \n",
    "                                            else re.sub('\\d', '', x) if re.search('\\d',x)\n",
    "                                            else x.strip()\n",
    "                                               )  \n",
    "    energy=energy.set_index('Country')\n",
    "    \n",
    "    GDP = pd.read_csv('world_bank.csv'\n",
    "                    , skiprows = 4\n",
    "                    , header = 0\n",
    "                    , nrows = 264)    \n",
    "\n",
    "    GDP['Country Name'] = GDP['Country Name'].apply(lambda x: \"South Korea\" if \"Korea, Rep.\" in x\n",
    "                                            else \"Iran\" if \"Iran, Islamic Rep.\" in x\n",
    "                                            else \"Hong Kong\" if \"Hong Kong SAR, China\" in x\n",
    "                                            else x.strip()\n",
    "                                               )\n",
    "    GDP=GDP.set_index('Country Name')\n",
    "    \n",
    "    ScimEn = pd.read_excel('scimagojr-3.xlsx', header = 0)\n",
    "    ScimEn['Country']=ScimEn['Country'].str.strip()\n",
    "    \n",
    "    ScimEn=ScimEn.set_index('Country')\n",
    "       \n",
    "    result = pd.concat([GDP,ScimEn,energy],axis = 1, join = 'inner', ignore_index = False).reindex(GDP.index)\n",
    "    \n",
    "    result = result[result['Rank']<=15][['Rank', 'Documents', 'Citable documents', 'Citations', 'Self-citations', 'Citations per document', 'H index', 'Energy Supply', 'Energy Supply per Capita', '% Renewable', '2006', '2007', '2008', '2009', '2010', '2011', '2012', '2013', '2014', '2015']]\n",
    "    \n",
    "    result['Est. Population'] = result['Energy Supply']/result['Energy Supply per Capita']\n",
    "    result['Est. Citable Doc PP'] = result['Citable documents']/result['Est. Population']    \n",
    "    \n",
    "    return result['Energy Supply per Capita'].corr(result['Est. Citable Doc PP'], method = 'pearson')\n",
    "\n",
    "# answer_nine()"
   ]
  },
  {
   "cell_type": "code",
   "execution_count": 20,
   "metadata": {},
   "outputs": [
    {
     "data": {
      "image/png": "[encoded data removed]",
      "text/plain": [
       "<matplotlib.figure.Figure at 0x7f9df6663f28>"
      ]
     },
     "metadata": {},
     "output_type": "display_data"
    }
   ],
   "source": [
    "def plot9():\n",
    "    import matplotlib as plt\n",
    "    %matplotlib inline\n",
    "    \n",
    "    Top15 = answer_one()\n",
    "    Top15['PopEst'] = Top15['Energy Supply'] / Top15['Energy Supply per Capita']\n",
    "    Top15['Citable docs per Capita'] = Top15['Citable documents'] / Top15['PopEst']\n",
    "    Top15.plot(x='Citable docs per Capita', y='Energy Supply per Capita', kind='scatter', xlim=[0, 0.0006])\n",
    "    \n",
    "# plot9()    "
   ]
  },
  {
   "cell_type": "code",
   "execution_count": null,
   "metadata": {
    "collapsed": true
   },
   "outputs": [],
   "source": [
    "#plot9() # Be sure to comment out plot9() before submitting the assignment!"
   ]
  },
  {
   "cell_type": "markdown",
   "metadata": {},
   "source": [
    "### Question 10 (6.6%)\n",
    "Create a new column with a 1 if the country's % Renewable value is at or above the median for all countries in the top 15, and a 0 if the country's % Renewable value is below the median.\n",
    "\n",
    "*This function should return a series named `HighRenew` whose index is the country name sorted in ascending order of rank.*"
   ]
  },
  {
   "cell_type": "code",
   "execution_count": 16,
   "metadata": {
    "umich_part_id": "018",
    "umich_partlist_id": "003"
   },
   "outputs": [
    {
     "data": {
      "text/plain": [
       "Country Name\n",
       "China                 1\n",
       "United States         0\n",
       "Japan                 0\n",
       "United Kingdom        0\n",
       "Russian Federation    1\n",
       "Canada                1\n",
       "Germany               1\n",
       "India                 0\n",
       "France                1\n",
       "South Korea           0\n",
       "Italy                 1\n",
       "Spain                 1\n",
       "Iran                  0\n",
       "Australia             0\n",
       "Brazil                1\n",
       "Name: HighRenew, dtype: int64"
      ]
     },
     "execution_count": 16,
     "metadata": {},
     "output_type": "execute_result"
    }
   ],
   "source": [
    "def answer_ten():\n",
    "    Top15 = answer_one().sort_values(by=['Rank'],ascending=True)\n",
    "#     Top15['Median_Renewable'] = Top15['% Renewable'].median()\n",
    "    Top15['HighRenew'] = [1 if x>= Top15['% Renewable'].median() else 0 for x in Top15['% Renewable']]\n",
    "    return Top15['HighRenew']\n",
    "\n",
    "# answer_ten()"
   ]
  },
  {
   "cell_type": "markdown",
   "metadata": {},
   "source": [
    "### Question 11 (6.6%)\n",
    "Use the following dictionary to group the Countries by Continent, then create a dateframe that displays the sample size (the number of countries in each continent bin), and the sum, mean, and std deviation for the estimated population of each country.\n",
    "\n",
    "```python\n",
    "ContinentDict  = {'China':'Asia', \n",
    "                  'United States':'North America', \n",
    "                  'Japan':'Asia', \n",
    "                  'United Kingdom':'Europe', \n",
    "                  'Russian Federation':'Europe', \n",
    "                  'Canada':'North America', \n",
    "                  'Germany':'Europe', \n",
    "                  'India':'Asia',\n",
    "                  'France':'Europe', \n",
    "                  'South Korea':'Asia', \n",
    "                  'Italy':'Europe', \n",
    "                  'Spain':'Europe', \n",
    "                  'Iran':'Asia',\n",
    "                  'Australia':'Australia', \n",
    "                  'Brazil':'South America'}\n",
    "```\n",
    "\n",
    "*This function should return a DataFrame with index named Continent `['Asia', 'Australia', 'Europe', 'North America', 'South America']` and columns `['size', 'sum', 'mean', 'std']`*"
   ]
  },
  {
   "cell_type": "code",
   "execution_count": 30,
   "metadata": {
    "umich_part_id": "019",
    "umich_partlist_id": "003"
   },
   "outputs": [
    {
     "data": {
      "text/html": [
       "<div>\n",
       "<table border=\"1\" class=\"dataframe\">\n",
       "  <thead>\n",
       "    <tr style=\"text-align: right;\">\n",
       "      <th></th>\n",
       "      <th>size</th>\n",
       "      <th>sum</th>\n",
       "      <th>mean</th>\n",
       "      <th>std</th>\n",
       "    </tr>\n",
       "    <tr>\n",
       "      <th>Continent</th>\n",
       "      <th></th>\n",
       "      <th></th>\n",
       "      <th></th>\n",
       "      <th></th>\n",
       "    </tr>\n",
       "  </thead>\n",
       "  <tbody>\n",
       "    <tr>\n",
       "      <th>Asia</th>\n",
       "      <td>5.0</td>\n",
       "      <td>2.898666e+09</td>\n",
       "      <td>5.797333e+08</td>\n",
       "      <td>6.790979e+08</td>\n",
       "    </tr>\n",
       "    <tr>\n",
       "      <th>Australia</th>\n",
       "      <td>1.0</td>\n",
       "      <td>2.331602e+07</td>\n",
       "      <td>2.331602e+07</td>\n",
       "      <td>NaN</td>\n",
       "    </tr>\n",
       "    <tr>\n",
       "      <th>Europe</th>\n",
       "      <td>6.0</td>\n",
       "      <td>4.579297e+08</td>\n",
       "      <td>7.632161e+07</td>\n",
       "      <td>3.464767e+07</td>\n",
       "    </tr>\n",
       "    <tr>\n",
       "      <th>North America</th>\n",
       "      <td>2.0</td>\n",
       "      <td>3.528552e+08</td>\n",
       "      <td>1.764276e+08</td>\n",
       "      <td>1.996696e+08</td>\n",
       "    </tr>\n",
       "    <tr>\n",
       "      <th>South America</th>\n",
       "      <td>1.0</td>\n",
       "      <td>2.059153e+08</td>\n",
       "      <td>2.059153e+08</td>\n",
       "      <td>NaN</td>\n",
       "    </tr>\n",
       "  </tbody>\n",
       "</table>\n",
       "</div>"
      ],
      "text/plain": [
       "               size           sum          mean           std\n",
       "Continent                                                    \n",
       "Asia            5.0  2.898666e+09  5.797333e+08  6.790979e+08\n",
       "Australia       1.0  2.331602e+07  2.331602e+07           NaN\n",
       "Europe          6.0  4.579297e+08  7.632161e+07  3.464767e+07\n",
       "North America   2.0  3.528552e+08  1.764276e+08  1.996696e+08\n",
       "South America   1.0  2.059153e+08  2.059153e+08           NaN"
      ]
     },
     "execution_count": 30,
     "metadata": {},
     "output_type": "execute_result"
    }
   ],
   "source": [
    "import numpy as np\n",
    "\n",
    "def answer_eleven():\n",
    "    ContinentDict  = {'China':'Asia', \n",
    "                  'United States':'North America', \n",
    "                  'Japan':'Asia', \n",
    "                  'United Kingdom':'Europe', \n",
    "                  'Russian Federation':'Europe', \n",
    "                  'Canada':'North America', \n",
    "                  'Germany':'Europe', \n",
    "                  'India':'Asia',\n",
    "                  'France':'Europe', \n",
    "                  'South Korea':'Asia', \n",
    "                  'Italy':'Europe', \n",
    "                  'Spain':'Europe', \n",
    "                  'Iran':'Asia',\n",
    "                  'Australia':'Australia', \n",
    "                  'Brazil':'South America'}\n",
    "    Top15 = answer_one().reset_index()\n",
    "    Top15['PopEst'] = Top15['Energy Supply'] / Top15['Energy Supply per Capita']\n",
    "    Top15['Continent'] = Top15['Country Name'].map(ContinentDict)\n",
    "    pivot_table = pd.pivot_table(Top15,values=['PopEst'],index='Continent'\n",
    "                                    , aggfunc={'PopEst': [np.size,np.sum,np.mean,np.std]})\n",
    "    \n",
    "    pivot_table.columns = pivot_table.columns.droplevel(0)\n",
    "    return pivot_table\n",
    "\n",
    "# answer_eleven()"
   ]
  },
  {
   "cell_type": "markdown",
   "metadata": {},
   "source": [
    "### Question 12 (6.6%)\n",
    "Cut % Renewable into 5 bins. Group Top15 by the Continent, as well as these new % Renewable bins. How many countries are in each of these groups?\n",
    "\n",
    "*This function should return a __Series__ with a MultiIndex of `Continent`, then the bins for `% Renewable`. Do not include groups with no countries.*"
   ]
  },
  {
   "cell_type": "code",
   "execution_count": 15,
   "metadata": {
    "scrolled": true
   },
   "outputs": [
    {
     "data": {
      "text/plain": [
       "Continent      bin             \n",
       "Asia           (2.212, 15.753]     4.0\n",
       "               (15.753, 29.227]    1.0\n",
       "Australia      (2.212, 15.753]     1.0\n",
       "Europe         (2.212, 15.753]     1.0\n",
       "               (15.753, 29.227]    3.0\n",
       "               (29.227, 42.701]    2.0\n",
       "North America  (2.212, 15.753]     1.0\n",
       "               (56.174, 69.648]    1.0\n",
       "South America  (56.174, 69.648]    1.0\n",
       "Name: % Renewable, dtype: float64"
      ]
     },
     "execution_count": 15,
     "metadata": {},
     "output_type": "execute_result"
    }
   ],
   "source": [
    "def answer_twelve():\n",
    "    import numpy as np\n",
    "    Top15 = answer_one().reset_index()\n",
    "    ContinentDict  = {'China':'Asia', \n",
    "                  'United States':'North America', \n",
    "                  'Japan':'Asia', \n",
    "                  'United Kingdom':'Europe', \n",
    "                  'Russian Federation':'Europe', \n",
    "                  'Canada':'North America', \n",
    "                  'Germany':'Europe', \n",
    "                  'India':'Asia',\n",
    "                  'France':'Europe', \n",
    "                  'South Korea':'Asia', \n",
    "                  'Italy':'Europe', \n",
    "                  'Spain':'Europe', \n",
    "                  'Iran':'Asia',\n",
    "                  'Australia':'Australia', \n",
    "                  'Brazil':'South America'}\n",
    "    Top15['Continent'] = Top15['Country Name'].map(ContinentDict)\n",
    "    Top15['bin']=pd.cut(Top15['% Renewable'],5)\n",
    "    pt = pd.pivot_table(Top15,values = '% Renewable',index=['Continent','bin'], aggfunc=np.size).dropna()    \n",
    "    return pt\n",
    "# answer_twelve()"
   ]
  },
  {
   "cell_type": "markdown",
   "metadata": {},
   "source": [
    "### Question 13 (6.6%)\n",
    "Convert the Population Estimate series to a string with thousands separator (using commas). Do not round the results.\n",
    "\n",
    "e.g. 317615384.61538464 -> 317,615,384.61538464\n",
    "\n",
    "*This function should return a Series `PopEst` whose index is the country name and whose values are the population estimate string.*"
   ]
  },
  {
   "cell_type": "code",
   "execution_count": 29,
   "metadata": {
    "scrolled": true,
    "umich_part_id": "020",
    "umich_partlist_id": "003"
   },
   "outputs": [
    {
     "data": {
      "text/plain": [
       "Country Name\n",
       "Australia              23,316,017.316017315\n",
       "Brazil                 205,915,254.23728815\n",
       "Canada                  35,239,864.86486486\n",
       "China                 1,367,645,161.2903225\n",
       "Germany                 80,369,696.96969697\n",
       "Spain                    46,443,396.2264151\n",
       "France                  63,837,349.39759036\n",
       "United Kingdom         63,870,967.741935484\n",
       "India                 1,276,730,769.2307692\n",
       "Iran                    77,075,630.25210084\n",
       "Italy                  59,908,256.880733944\n",
       "Japan                  127,409,395.97315437\n",
       "South Korea            49,805,429.864253394\n",
       "Russian Federation            143,500,000.0\n",
       "United States          317,615,384.61538464\n",
       "Name: PopEst, dtype: object"
      ]
     },
     "execution_count": 29,
     "metadata": {},
     "output_type": "execute_result"
    }
   ],
   "source": [
    "def answer_thirteen():\n",
    "    Top15 = answer_one()\n",
    "    Top15['PopEst'] = Top15['Energy Supply']/Top15['Energy Supply per Capita']\n",
    "#     Top15['PopEst']=Top15['PopEst'].apply(str)\n",
    "    Top15['PopEst']=Top15['PopEst'].apply(lambda x: '{:,}'.format(x) )\n",
    "    return Top15['PopEst']\n",
    "# answer_thirteen()"
   ]
  },
  {
   "cell_type": "markdown",
   "metadata": {},
   "source": [
    "### Optional\n",
    "\n",
    "Use the built in function `plot_optional()` to see an example visualization."
   ]
  },
  {
   "cell_type": "code",
   "execution_count": 31,
   "metadata": {
    "collapsed": true,
    "scrolled": true
   },
   "outputs": [],
   "source": [
    "def plot_optional():\n",
    "    import matplotlib as plt\n",
    "    %matplotlib inline\n",
    "    Top15 = answer_one()\n",
    "    ax = Top15.plot(x='Rank', y='% Renewable', kind='scatter', \n",
    "                    c=['#e41a1c','#377eb8','#e41a1c','#4daf4a','#4daf4a','#377eb8','#4daf4a','#e41a1c',\n",
    "                       '#4daf4a','#e41a1c','#4daf4a','#4daf4a','#e41a1c','#dede00','#ff7f00'], \n",
    "                    xticks=range(1,16), s=6*Top15['2014']/10**10, alpha=.75, figsize=[16,6]);\n",
    "\n",
    "    for i, txt in enumerate(Top15.index):\n",
    "        ax.annotate(txt, [Top15['Rank'][i], Top15['% Renewable'][i]], ha='center')\n",
    "\n",
    "    print(\"This is an example of a visualization that can be created to help understand the data. \\\n",
    "This is a bubble chart showing % Renewable vs. Rank. The size of the bubble corresponds to the countries' \\\n",
    "2014 GDP, and the color corresponds to the continent.\")"
   ]
  },
  {
   "cell_type": "code",
   "execution_count": 32,
   "metadata": {},
   "outputs": [
    {
     "name": "stdout",
     "output_type": "stream",
     "text": [
      "This is an example of a visualization that can be created to help understand the data. This is a bubble chart showing % Renewable vs. Rank. The size of the bubble corresponds to the countries' 2014 GDP, and the color corresponds to the continent.\n"
     ]
    },
    {
     "data": {
      "image/png": "[encoded data removed]",
      "text/plain": [
       "<matplotlib.figure.Figure at 0x7fcf3c87cfd0>"
      ]
     },
     "metadata": {},
     "output_type": "display_data"
    }
   ],
   "source": [
    "# plot_optional() # Be sure to comment out plot_optional() before submitting the assignment!"
   ]
  },
  {
   "cell_type": "code",
   "execution_count": null,
   "metadata": {
    "collapsed": true
   },
   "outputs": [],
   "source": []
  }
 ],
 "metadata": {
  "anaconda-cloud": {},
  "coursera": {
   "course_slug": "python-data-analysis",
   "graded_item_id": "zAr06",
   "launcher_item_id": "KSSjT",
   "part_id": "SL3fU"
  },
  "kernelspec": {
   "display_name": "Python 3",
   "language": "python",
   "name": "python3"
  },
  "language_info": {
   "codemirror_mode": {
    "name": "ipython",
    "version": 3
   },
   "file_extension": ".py",
   "mimetype": "text/x-python",
   "name": "python",
   "nbconvert_exporter": "python",
   "pygments_lexer": "ipython3",
   "version": "3.6.2"
  },
  "umich": {
   "id": "Assignment 3",
   "version": "1.5"
  }
 },
 "nbformat": 4,
 "nbformat_minor": 1
}
